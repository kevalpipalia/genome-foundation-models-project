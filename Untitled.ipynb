{
 "cells": [
  {
   "cell_type": "code",
   "execution_count": 2,
   "id": "855f4b33-f154-4cdd-af03-cd8af5dacfb8",
   "metadata": {},
   "outputs": [
    {
     "name": "stdout",
     "output_type": "stream",
     "text": [
      "       start     end            gene_id  GTEX-111YS  GTEX-1122O  GTEX-1128S  \\\n",
      "#chr                                                                          \n",
      "chr1   29552   29553  ENSG00000227232.5   -1.225024   -0.853391    0.429361   \n",
      "chr1  129222  129223  ENSG00000238009.6   -0.673318    0.121709   -0.654690   \n",
      "chr1  131024  131025  ENSG00000233750.3    0.301491    0.858780   -0.437569   \n",
      "chr1  135894  135895  ENSG00000268903.1    0.417104    0.376684    0.816338   \n",
      "chr1  137964  137965  ENSG00000269981.1    0.891654    0.309319    1.178870   \n",
      "\n",
      "      GTEX-113IC  GTEX-113JC  GTEX-117XS  GTEX-117YW  ...  GTEX-ZV7C  \\\n",
      "#chr                                                  ...              \n",
      "chr1    0.853391   -0.706494    1.290949    0.805956  ...   0.564697   \n",
      "chr1   -1.178870   -0.837370   -0.289783   -0.627164  ...   1.171418   \n",
      "chr1   -1.558035   -0.770282   -1.698472   -1.401871  ...   0.325032   \n",
      "chr1   -2.614268   -0.931270   -0.372677   -1.021528  ...  -0.235641   \n",
      "chr1   -2.614268   -0.821562   -0.811136   -0.560321  ...  -0.604585   \n",
      "\n",
      "      GTEX-ZVE2  GTEX-ZVP2  GTEX-ZVT2  GTEX-ZVT3  GTEX-ZVT4  GTEX-ZVZP  \\\n",
      "#chr                                                                     \n",
      "chr1  -1.135099  -0.479065  -0.170799  -1.079918   0.148098   0.372677   \n",
      "chr1   0.231802   1.060053   0.925522  -0.167010   0.673318   0.555955   \n",
      "chr1  -1.241002   0.013075   0.529981  -2.134683  -0.031758   2.614268   \n",
      "chr1  -0.313240  -0.001868   0.429361  -1.558035   1.009019   1.114008   \n",
      "chr1  -0.254890  -0.313240   0.372677  -1.883649   0.760269   0.396813   \n",
      "\n",
      "      GTEX-ZVZQ  GTEX-ZXES  GTEX-ZXG5  \n",
      "#chr                                   \n",
      "chr1   0.948702  -0.517128   0.765266  \n",
      "chr1  -0.716116  -0.600107  -0.321097  \n",
      "chr1  -1.509592   0.328973   0.151876  \n",
      "chr1  -1.100218  -0.356707  -0.065421  \n",
      "chr1  -1.862071  -0.372677  -0.274234  \n",
      "\n",
      "[5 rows x 673 columns]\n"
     ]
    }
   ],
   "source": [
    "import pandas as pd\n",
    "import gzip\n",
    "\n",
    "# Replace 'your_file.bed.gz' with your file path\n",
    "file_path = 'data/Whole_Blood.v8.normalized_expression.bed.gz'\n",
    "\n",
    "# Use gzip.open to read the compressed file\n",
    "with gzip.open(file_path, 'rt') as file:\n",
    "    # Read the file into a pandas DataFrame\n",
    "    # BED format is typically tab-delimited; no header row\n",
    "    df = pd.read_csv(file, sep='\\t', index_col=0)\n",
    "\n",
    "    # Optionally, add column names if you know the format of your BED file\n",
    "    # For example: df.columns = ['chrom', 'start', 'end', 'name', 'score', 'strand']\n",
    "\n",
    "# Now df is a pandas DataFrame containing your data\n",
    "print(df.head())"
   ]
  },
  {
   "cell_type": "code",
   "execution_count": 6,
   "id": "7cd1d53e-e28c-47ee-a34f-cb0e4ae5b5f2",
   "metadata": {},
   "outputs": [
    {
     "data": {
      "text/plain": [
       "#chr\n",
       "chr1   -0.297584\n",
       "Name: GTEX-1A3MV, dtype: float64"
      ]
     },
     "execution_count": 6,
     "metadata": {},
     "output_type": "execute_result"
    }
   ],
   "source": [
    "df[df['start'] - 1000 == 28552]['GTEX-1A3MV']"
   ]
  },
  {
   "cell_type": "code",
   "execution_count": null,
   "id": "60110901-ffa5-4fbb-8a15-f9c0ffe72abc",
   "metadata": {},
   "outputs": [],
   "source": []
  }
 ],
 "metadata": {
  "kernelspec": {
   "display_name": "Python 3 (ipykernel)",
   "language": "python",
   "name": "python3"
  },
  "language_info": {
   "codemirror_mode": {
    "name": "ipython",
    "version": 3
   },
   "file_extension": ".py",
   "mimetype": "text/x-python",
   "name": "python",
   "nbconvert_exporter": "python",
   "pygments_lexer": "ipython3",
   "version": "3.10.10"
  }
 },
 "nbformat": 4,
 "nbformat_minor": 5
}
